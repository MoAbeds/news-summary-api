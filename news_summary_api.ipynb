{
  "nbformat": 4,
  "nbformat_minor": 0,
  "metadata": {
    "colab": {
      "name": "news summary api.ipynb",
      "provenance": [],
      "collapsed_sections": [],
      "authorship_tag": "ABX9TyO0cTY1DYnKEivdlSum8MDS",
      "include_colab_link": true
    },
    "kernelspec": {
      "name": "python3",
      "display_name": "Python 3"
    },
    "language_info": {
      "name": "python"
    }
  },
  "cells": [
    {
      "cell_type": "markdown",
      "metadata": {
        "id": "view-in-github",
        "colab_type": "text"
      },
      "source": [
        "<a href=\"https://colab.research.google.com/github/MoAbeds/news-summary-api/blob/main/news_summary_api.ipynb\" target=\"_parent\"><img src=\"https://colab.research.google.com/assets/colab-badge.svg\" alt=\"Open In Colab\"/></a>"
      ]
    },
    {
      "cell_type": "code",
      "source": [
        "!pip install transformers --quiet\n",
        "!pip install sentencepiece --quiet\n",
        "!pip install newsapi-python --quiet\n",
        "!pip install fastapi\n",
        "!pip install \"uvicorn[standard]\"\n",
        "\n"
      ],
      "metadata": {
        "id": "LmBaIptlhmTj"
      },
      "execution_count": 60,
      "outputs": []
    },
    {
      "cell_type": "code",
      "execution_count": 61,
      "metadata": {
        "id": "QE2NRr39gCP5"
      },
      "outputs": [],
      "source": [
        "import torch\n",
        "import requests\n",
        "from transformers import pipeline\n",
        "from bs4 import BeautifulSoup\n",
        "from transformers import PegasusForConditionalGeneration, PegasusTokenizer\n",
        "import pandas as pd\n",
        "from newsapi import NewsApiClient\n",
        "from typing import Optional\n",
        "from fastapi import FastAPI\n"
      ]
    },
    {
      "cell_type": "code",
      "source": [
        ""
      ],
      "metadata": {
        "id": "BCuJBGsC0Uf0"
      },
      "execution_count": 61,
      "outputs": []
    },
    {
      "cell_type": "code",
      "source": [
        "tokenizer = PegasusTokenizer.from_pretrained(\"google/pegasus-xsum\")\n",
        "model = PegasusForConditionalGeneration.from_pretrained(\"google/pegasus-xsum\")"
      ],
      "metadata": {
        "id": "F2nCBYSrhzWi"
      },
      "execution_count": 62,
      "outputs": []
    },
    {
      "cell_type": "code",
      "source": [
        "NEWS_API = 'dd9e2fb9c5484b00983d86dd515384b2'\n",
        "news_client = NewsApiClient(api_key=NEWS_API)\n",
        "\n",
        "Search_input = 'apple'\n",
        "top_headlines = news_client.get_top_headlines(q=Search_input,\n",
        "                                          country='us',\n",
        "                                          language='en', )"
      ],
      "metadata": {
        "id": "EfbnxkMclRaT"
      },
      "execution_count": 79,
      "outputs": []
    },
    {
      "cell_type": "code",
      "source": [
        "top_headlines"
      ],
      "metadata": {
        "id": "tLMD7pBVr-7U"
      },
      "execution_count": null,
      "outputs": []
    },
    {
      "cell_type": "code",
      "source": [
        "NewsArr=[]\n",
        "for atr in top_headlines['articles']:\n",
        "  title = atr['title']\n",
        "  content = atr['content']\n",
        "  \n",
        "  if content is not None:\n",
        "    tokens = tokenizer(content, truncation=True, padding=\"longest\", return_tensors=\"pt\")\n",
        "    summary = model.generate(**tokens)\n",
        "    sum = tokenizer.decode(summary[0])\n",
        "    Blogdic = { 'title': title,'content':content,'summary': sum}\n",
        "    NewsArr.append(Blogdic)\n",
        "\n",
        "  else:\n",
        "    pass\n",
        "\n",
        "  \n",
        "\n"
      ],
      "metadata": {
        "id": "M5ErjqSFm8UH"
      },
      "execution_count": 75,
      "outputs": []
    },
    {
      "cell_type": "code",
      "source": [
        "#create api\n",
        "app = FastAPI()\n",
        "\n",
        "\n",
        "@app.get(\"/\")\n",
        "def read_root():\n",
        "    return {\"Hello\": \"World\"}\n",
        "\n",
        "\n",
        "@app.get(\"/news/{item_id}\")\n",
        "def read_item(search_input: int, q: Optional[str] = None):\n",
        "  Search_input = search_input\n",
        "  top_headlines = news_client.get_top_headlines(q=Search_input,\n",
        "                                          country='us',\n",
        "                                          language='en', )\n",
        "  NewsArr=[]\n",
        "  for atr in top_headlines['articles']:\n",
        "    title = atr['title']\n",
        "    content = atr['content']\n",
        "    \n",
        "    if content is not None:\n",
        "      tokens = tokenizer(content, truncation=True, padding=\"longest\", return_tensors=\"pt\")\n",
        "      summary = model.generate(**tokens)\n",
        "      sum = tokenizer.decode(summary[0])\n",
        "      Blogdic = { 'title': title,'content':content,'summary': sum}\n",
        "      NewsArr.append(Blogdic)\n",
        "\n",
        "    else:\n",
        "      pass\n",
        "\n",
        "  return NewsArr\n",
        "\n",
        "  \n"
      ],
      "metadata": {
        "id": "8FEdHNeNGvdN"
      },
      "execution_count": null,
      "outputs": []
    }
  ]
}